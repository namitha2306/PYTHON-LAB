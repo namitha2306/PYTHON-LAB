{
  "nbformat": 4,
  "nbformat_minor": 0,
  "metadata": {
    "colab": {
      "name": "LAB2Q1.ipynb",
      "provenance": [],
      "collapsed_sections": []
    },
    "kernelspec": {
      "name": "python3",
      "display_name": "Python 3"
    },
    "language_info": {
      "name": "python"
    }
  },
  "cells": [
    {
      "cell_type": "markdown",
      "source": [
        "# **         PYTHON LAB CYCLE 2     **"
      ],
      "metadata": {
        "id": "2uq06y9zWy_m"
      }
    },
    {
      "cell_type": "markdown",
      "source": [
        "Q1 : Suppose a newly born pair of rabbits, one male and one female, are \n",
        "put in a field. Rabbits can mate at the age of one month so that at the \n",
        "end of its second month, a female has produced another pair of \n",
        "rabbits. Suppose that our rabbits never die and that the female always \n",
        "produces one new pair every month from the second month.\n",
        "Develop a program to show a table containing the number of pairs of \n",
        "rabbits in the first N months."
      ],
      "metadata": {
        "id": "fCecPjafWPmS"
      }
    },
    {
      "cell_type": "code",
      "execution_count": null,
      "metadata": {
        "colab": {
          "base_uri": "https://localhost:8080/"
        },
        "id": "p4GgQ_9v0P48",
        "outputId": "da2fc46a-55a2-42c3-b07f-7a74b1dabe33"
      },
      "outputs": [
        {
          "output_type": "stream",
          "name": "stdout",
          "text": [
            "Enter number of months : 34\n",
            "Number of rabits upto  34 months : \n",
            "Month           Number of pair of rabits\n",
            "1 \t\t 1\n",
            "2 \t\t 1\n",
            "3 \t\t 2\n",
            "4 \t\t 3\n",
            "5 \t\t 5\n",
            "6 \t\t 8\n",
            "7 \t\t 13\n",
            "8 \t\t 21\n",
            "9 \t\t 34\n",
            "10 \t\t 55\n",
            "11 \t\t 89\n",
            "12 \t\t 144\n",
            "13 \t\t 233\n",
            "14 \t\t 377\n",
            "15 \t\t 610\n",
            "16 \t\t 987\n",
            "17 \t\t 1597\n",
            "18 \t\t 2584\n",
            "19 \t\t 4181\n",
            "20 \t\t 6765\n",
            "21 \t\t 10946\n",
            "22 \t\t 17711\n",
            "23 \t\t 28657\n",
            "24 \t\t 46368\n",
            "25 \t\t 75025\n",
            "26 \t\t 121393\n",
            "27 \t\t 196418\n",
            "28 \t\t 317811\n",
            "29 \t\t 514229\n",
            "30 \t\t 832040\n",
            "31 \t\t 1346269\n",
            "32 \t\t 2178309\n",
            "33 \t\t 3524578\n",
            "34 \t\t 5702887\n"
          ]
        }
      ],
      "source": [
        "n=int(input(\"Enter number of months : \"))\n",
        "def fibonacci(n):\n",
        "\n",
        "  if n==1:\n",
        "    return 1\n",
        "  elif n==2:\n",
        "    return 1\n",
        "  elif n>2:\n",
        "    return fibonacci(n-1)+fibonacci(n-2)\n",
        "fibonacci(n)    \n",
        "\n",
        "print(\"Number of rabits upto \" ,n,\"months : \")\n",
        "print('Month           Number of pair of rabits')  \n",
        "for i in range(1,n+1):\n",
        "  print(i,\"\\t\\t\",fibonacci(i))\n",
        "        "
      ]
    }
  ]
}