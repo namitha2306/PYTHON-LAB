{
  "nbformat": 4,
  "nbformat_minor": 0,
  "metadata": {
    "colab": {
      "name": "LAB-CYCLE QUESTION :04.ipynb",
      "provenance": [],
      "collapsed_sections": []
    },
    "kernelspec": {
      "name": "python3",
      "display_name": "Python 3"
    },
    "language_info": {
      "name": "python"
    }
  },
  "cells": [
    {
      "cell_type": "markdown",
      "source": [
        "# ***PYTHON LAB-CYCLE QUESTION :04***"
      ],
      "metadata": {
        "id": "ORGWRyv2BE5v"
      }
    },
    {
      "cell_type": "code",
      "execution_count": 1,
      "metadata": {
        "colab": {
          "base_uri": "https://localhost:8080/"
        },
        "id": "CW5Jewl_BD8T",
        "outputId": "cfadc64c-f0de-48ef-ac7f-660499d5c0ed"
      },
      "outputs": [
        {
          "output_type": "stream",
          "name": "stdout",
          "text": [
            "Enter a number 32\n",
            "Happy!!!\n",
            "\n",
            "Enter lower limit of range: 100\n",
            "Enter upper limit of range: 200\n",
            "\n",
            "Happy numbers from  100  to  200  are: \n",
            "100\n",
            "103\n",
            "109\n",
            "129\n",
            "130\n",
            "133\n",
            "139\n",
            "167\n",
            "176\n",
            "188\n",
            "190\n",
            "192\n",
            "193\n",
            "\n",
            "Enter how many happy numbers do you want to print: 20\n",
            "First  20  natural happy numbers are: \n",
            "1\n",
            "7\n",
            "10\n",
            "13\n",
            "19\n",
            "23\n",
            "28\n",
            "31\n",
            "32\n",
            "44\n",
            "49\n",
            "68\n",
            "70\n",
            "79\n",
            "82\n",
            "86\n",
            "91\n",
            "94\n",
            "97\n",
            "100\n"
          ]
        }
      ],
      "source": [
        "#4.Develop a program to perform the following task:\n",
        "\n",
        "#a. Define a function to check whether a number is happy or not.\n",
        "\n",
        "#b. Define a function to print all happy numbers within a range\n",
        "\n",
        "#c. Define a function to print first N happy numbers\n",
        "\n",
        "#A happy number is a number defined by the following process:\n",
        "\n",
        "#• Starting with any positive integer, replace the number with the sum of the squares of its digits.\n",
        "\n",
        "#• Repeat the process until the number equals 1 (where it will stay), or it loops endlessly in a cycle which does not include 1.\n",
        "\n",
        "#• Those numbers for which this process ends in 1 are happy.\n",
        "\n",
        "\n",
        "\n",
        "\n",
        "num = int(input(\"Enter a number \"))\n",
        "def isHappy(num):\n",
        "    n = num\n",
        "    for i in range(100):\n",
        "        sum = 0\n",
        "        while n!= 0:\n",
        "            r = n%10\n",
        "            sum += r*r\n",
        "            n = n//10\n",
        "        n = sum\n",
        "        if sum == 1:\n",
        "           return True\n",
        "    return False\n",
        "if isHappy(num) == True:\n",
        "    print(\"Happy!!!\")\n",
        "else:\n",
        "    print(\"Sad!!!\")\n",
        "def happyr():\n",
        "    l=int(input(\"\\nEnter lower limit of range: \"))\n",
        "    u=int(input(\"Enter upper limit of range: \"))\n",
        "    print(\"\\nHappy numbers from \",l,\" to \",u,\" are: \")\n",
        "    for i in range(l,u+1):\n",
        "        if isHappy(i)==True:\n",
        "           print(i)\n",
        "happyr()\n",
        "\n",
        "def happylist():\n",
        "    p = int(input(\"\\nEnter how many happy numbers do you want to print: \"))\n",
        "    print(\"First \",p,\" natural happy numbers are: \")\n",
        "    i=0\n",
        "    while p != 0:\n",
        "        i += 1\n",
        "        if isHappy(i) == True:\n",
        "            p -= 1\n",
        "            print(i)\n",
        "happylist()"
      ]
    }
  ]
}