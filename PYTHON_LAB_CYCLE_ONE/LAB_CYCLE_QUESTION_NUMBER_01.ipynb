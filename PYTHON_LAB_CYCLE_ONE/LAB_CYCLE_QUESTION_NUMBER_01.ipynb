{
  "nbformat": 4,
  "nbformat_minor": 0,
  "metadata": {
    "colab": {
      "name": "LAB-CYCLE QUESTION NUMBER : 01.ipynb",
      "provenance": [],
      "collapsed_sections": []
    },
    "kernelspec": {
      "name": "python3",
      "display_name": "Python 3"
    },
    "language_info": {
      "name": "python"
    }
  },
  "cells": [
    {
      "cell_type": "markdown",
      "source": [
        "# *PYTHON LAB-CYCLE QUESTION NUMBER : 01*\n",
        "\n"
      ],
      "metadata": {
        "id": "LwZJGIIk_Xde"
      }
    },
    {
      "cell_type": "code",
      "execution_count": 1,
      "metadata": {
        "id": "AAKBWPyI_Wk5",
        "colab": {
          "base_uri": "https://localhost:8080/"
        },
        "outputId": "7f7b419f-e68e-42d2-d67a-5b0395cc1fa3"
      },
      "outputs": [
        {
          "output_type": "stream",
          "name": "stdout",
          "text": [
            "Enter a four digit number: 1234\n",
            "sum:  10\n",
            "Reverse is :  4321\n",
            "Difference is :  -5\n"
          ]
        }
      ],
      "source": [
        "#1.Develop a program to read a four digit number and find its:\n",
        "\n",
        "#a.Sum of digits \n",
        "\n",
        "#b.Reverse\n",
        "\n",
        "#c.Difference between the product of digits at the odd position and the product of digits at the even postion.\n",
        "\n",
        "\n",
        "\n",
        "\n",
        "\n",
        "\n",
        "n = int(input(\"Enter a four digit number: \"))\n",
        "digit4 = n%10\n",
        "n = n//10\n",
        "digit3 = n%10\n",
        "n = n//10\n",
        "digit2 = n%10\n",
        "n = n//10\n",
        "digit1 = n%10\n",
        "n = n//10 \n",
        "sum = digit4+digit3+digit2+digit1\n",
        "reverse = (digit4*1000)+(digit3*100)+(digit2*10)+digit1\n",
        "difference = (digit1*digit3)-(digit2*digit4)\n",
        "print(\"sum: \",sum)\n",
        "print(\"Reverse is : \",reverse)\n",
        "print(\"Difference is : \",difference)\n",
        "\n",
        "\n"
      ]
    }
  ]
}