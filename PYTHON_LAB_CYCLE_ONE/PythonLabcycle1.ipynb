{
  "cells": [
    {
      "cell_type": "markdown",
      "metadata": {
        "id": "wpriicmdX2EJ"
      },
      "source": [
        "# ***M.Sc(Five year integrated) in Computer Science***\n",
        "# (Artificial Intelligence & Data Science)\n",
        "# Semester 1\n",
        "# Python Programming Lab\n",
        "# ***LAB CYCLE 1***"
      ]
    },
    {
      "cell_type": "markdown",
      "metadata": {
        "id": "ZkZ_BDvzX3pw"
      },
      "source": [
        "1.Develop a program to read a four digit number and find its:\n",
        "\n",
        "a.Sum of digits \n",
        "\n",
        "b.Reverse\n",
        "\n",
        "c.Difference between the product of digits at the odd position and the product of digits at the even postion.\n"
      ]
    },
    {
      "cell_type": "code",
      "execution_count": null,
      "metadata": {
        "colab": {
          "base_uri": "https://localhost:8080/"
        },
        "id": "EFv9rHo4YAAC",
        "outputId": "069e7fbe-7153-4266-dd91-6c88dca83c52"
      },
      "outputs": [
        {
          "name": "stdout",
          "output_type": "stream",
          "text": [
            "Enter a four digit number: 1234\n",
            "sum:  10\n",
            "Reverse is :  4321\n",
            "Difference is :  -5\n"
          ]
        }
      ],
      "source": [
        "n = int(input(\"Enter a four digit number: \"))\n",
        "digit4 = n%10\n",
        "n = n//10\n",
        "digit3 = n%10\n",
        "n = n//10\n",
        "digit2 = n%10\n",
        "n = n//10\n",
        "digit1 = n%10\n",
        "n = n//10 \n",
        "sum = digit4+digit3+digit2+digit1\n",
        "reverse = (digit4*1000)+(digit3*100)+(digit2*10)+digit1\n",
        "difference = (digit1*digit3)-(digit2*digit4)\n",
        "print(\"sum: \",sum)\n",
        "print(\"Reverse is : \",reverse)\n",
        "print(\"Difference is : \",difference)\n"
      ]
    },
    {
      "cell_type": "markdown",
      "metadata": {
        "id": "4pZgGdr2Z1Gk"
      },
      "source": [
        "2.Develop a program to read the three sides of two triangles and \n",
        "calculate the area of both. Define a function to read the three sides\n",
        "and call it. Also, define a function to calculate the area. Print the total \n",
        "area enclosed by both triangles and each triangle's contribution (%)\n",
        "towards it."
      ]
    },
    {
      "cell_type": "code",
      "execution_count": null,
      "metadata": {
        "colab": {
          "base_uri": "https://localhost:8080/"
        },
        "id": "In5UxipAYJAD",
        "outputId": "e362bfe9-321f-4ce8-a97d-2d9c9f562c41"
      },
      "outputs": [
        {
          "name": "stdout",
          "output_type": "stream",
          "text": [
            "Enter first side of  triangle: 2\n",
            "Enter second side of  triangle : 2\n",
            "Enter third side of  triangle : 2\n",
            "Sides of triangle :  2 2 2\n",
            "AREA OF TRIANGLE :  1.7320508075688772\n",
            "Enter first side of  triangle: 3\n",
            "Enter second side of  triangle : 3\n",
            "Enter third side of  triangle : 3\n",
            "Sides of triangle :  3 3 3\n",
            "AREA OF TRIANGLE :  3.897114317029974\n",
            "Contribution of first triangle :  30.76923076923077\n",
            "Contribution of second triangle :  69.23076923076924\n"
          ]
        }
      ],
      "source": [
        "def side():\n",
        "  p = int(input(\"Enter first side of  triangle: \"))\n",
        "  q = int(input(\"Enter second side of  triangle : \"))\n",
        "  r = int(input(\"Enter third side of  triangle : \"))\n",
        "  return p,q,r  \n",
        "def area():\n",
        "  p,q,r = side()\n",
        "  print(\"Sides of triangle : \",p,q,r)\n",
        "  s =(p+q+r)*0.5\n",
        "  A= (s*(s-p)*(s-q)*(s-r))**0.5\n",
        "  print(\"AREA OF TRIANGLE : \",A)\n",
        "  return A\n",
        "def  contribution():\n",
        " a1 =area()\n",
        " a2 =area()\n",
        " c1 =(a1/(a1+a2)*100)\n",
        " c2 =(a2/(a1+a2)*100)\n",
        " print(\"Contribution of first triangle : \",c1)\n",
        " print(\"Contribution of second triangle : \",c2)\n",
        "contribution()\n"
      ]
    },
    {
      "cell_type": "markdown",
      "metadata": {
        "id": "w9IgJieXZ9_D"
      },
      "source": [
        "3.Develop a program to read the employee's name, code, and basic pay\n",
        "and calculate the gross salary, deduction, and net salary according to\n",
        "the following conditions. Define a function to find each of the \n",
        "components. Finally, generate a payslip."
      ]
    },
    {
      "cell_type": "code",
      "execution_count": null,
      "metadata": {
        "colab": {
          "base_uri": "https://localhost:8080/"
        },
        "id": "SW3AlRfzYYp3",
        "outputId": "047870ab-2f8e-48c2-c0f7-25a74502210f"
      },
      "outputs": [
        {
          "name": "stdout",
          "output_type": "stream",
          "text": [
            "Enter name of employee : Namitha\n",
            "Enter code of employee : 1234\n",
            "Enter basicpay of the employee30001\n",
            "------------------------PAYMENT SLIP-------------------------\n",
            "Name of the employee :  Namitha\n",
            "Code of the employee :  1234\n",
            "Basic pay  of the employee :  30001\n",
            "Gross salary= 35083.5\n",
            "Deduction= 82\n",
            "Net Salary= 35001.5\n"
          ]
        }
      ],
      "source": [
        "def Employdetails():\n",
        "  name = str(input(\"Enter name of employee : \"))\n",
        "  code = int (input(\"Enter code of employee : \"))\n",
        "  basicpay = int(input(\"Enter basicpay of the employee\"))\n",
        "  \n",
        "  \n",
        "  \n",
        "  print('------------------------PAYMENT SLIP-------------------------')\n",
        "  print(\"Name of the employee : \",name)\n",
        "  print(\"Code of the employee : \",code)  \n",
        "  print(\"Basic pay  of the employee : \",basicpay) \n",
        "  return name,code,basicpay  \n",
        "def calc():\n",
        "  name,code,basicpay=Employdetails()\n",
        "  if basicpay<10000:\n",
        "    GrossSalary= (basicpay+(5*2.5)+500)\n",
        "    Deduction=(20+8+0)\n",
        "    Netsalary=(GrossSalary-Deduction)\n",
        "    print('Gross salary=',GrossSalary)\n",
        "    print('Deduction=',Deduction)\n",
        "    print('Net Salary=',NetSalary)\n",
        "  elif basicpay>10000 and basicpay<30000:\n",
        "    GrossSalary= (basicpay+(7.5*5)+2500) \n",
        "    Deduction=(60+8+0)\n",
        "    NetSalary=(GrossSalary-Deduction)\n",
        "    print('Gross salary=',GrossSalary)\n",
        "    print('Deduction=',Deduction)\n",
        "    print('Net Salary=',NetSalary)\n",
        "  elif basicpay>30000 and basicpay<50000:\n",
        "    GrossSalary= (basicpay+(11*7.5+5000)) \n",
        "    Deduction=(60+11+11)\n",
        "    NetSalary=(GrossSalary-Deduction)\n",
        "    print('Gross salary=',GrossSalary)\n",
        "    print('Deduction=',Deduction)\n",
        "    print('Net Salary=',NetSalary)\n",
        "  else :\n",
        "    GrossSalary= (basicpay+(25*11+7000))\n",
        "    Deduction=(80+12+20)\n",
        "    NetSalary=(GrossSalary-Deduction)\n",
        "    print('Gross salary=',GrossSalary)\n",
        "    print('Deduction=',Deduction)\n",
        "    print('Net Salary=',NetSalary)\n",
        "calc()"
      ]
    },
    {
      "cell_type": "markdown",
      "metadata": {
        "id": "-4ZbD3LSaCp4"
      },
      "source": [
        "4.Develop a program to perform the following task:\n",
        "\n",
        "\n",
        "a. Define a function to check whether a number is happy or not.\n",
        "\n",
        "\n",
        "b. Define a function to print all happy numbers within a range\n",
        "\n",
        "\n",
        "c. Define a function to print first N happy numbers\n",
        "\n",
        "\n",
        "A happy number is a number defined by the following process:\n",
        "\n",
        "\n",
        "• Starting with any positive integer, replace the number with the \n",
        "sum of the squares of its digits.\n",
        "\n",
        "\n",
        "• Repeat the process until the number equals 1 (where it will \n",
        "stay), or it loops endlessly in a cycle which does not include 1.\n",
        "\n",
        "\n",
        "• Those numbers for which this process ends in 1 are happy."
      ]
    },
    {
      "cell_type": "code",
      "execution_count": null,
      "metadata": {
        "colab": {
          "base_uri": "https://localhost:8080/"
        },
        "id": "dv6cgX2dXkfP",
        "outputId": "e3658d3f-df37-47cf-9d56-c612c73b96b0"
      },
      "outputs": [
        {
          "name": "stdout",
          "output_type": "stream",
          "text": [
            "Enter a number 32\n",
            "Happy!!!\n",
            "\n",
            "Enter lower limit of range: 100\n",
            "Enter upper limit of range: 150\n",
            "\n",
            "Happy numbers from  100  to  150  are: \n",
            "100\n",
            "103\n",
            "109\n",
            "129\n",
            "130\n",
            "133\n",
            "139\n",
            "\n",
            "Enter how many happy numbers do you want to print: 20\n",
            "First  20  natural happy numbers are: \n",
            "1\n",
            "7\n",
            "10\n",
            "13\n",
            "19\n",
            "23\n",
            "28\n",
            "31\n",
            "32\n",
            "44\n",
            "49\n",
            "68\n",
            "70\n",
            "79\n",
            "82\n",
            "86\n",
            "91\n",
            "94\n",
            "97\n",
            "100\n"
          ]
        }
      ],
      "source": [
        "num = int(input(\"Enter a number \"))\n",
        "def isHappy(num):\n",
        "    n = num\n",
        "    for i in range(100):\n",
        "        sum = 0\n",
        "        while n!= 0:\n",
        "            r = n%10\n",
        "            sum += r*r\n",
        "            n = n//10\n",
        "        n = sum\n",
        "        if sum == 1:\n",
        "           return True\n",
        "    return False\n",
        "if isHappy(num) == True:\n",
        "    print(\"Happy!!!\")\n",
        "else:\n",
        "    print(\"Sad!!!\")\n",
        "def happyr():\n",
        "    l=int(input(\"\\nEnter lower limit of range: \"))\n",
        "    u=int(input(\"Enter upper limit of range: \"))\n",
        "    print(\"\\nHappy numbers from \",l,\" to \",u,\" are: \")\n",
        "    for i in range(l,u+1):\n",
        "        if isHappy(i)==True:\n",
        "           print(i)\n",
        "happyr()\n",
        "\n",
        "def happylist():\n",
        "    p = int(input(\"\\nEnter how many happy numbers do you want to print: \"))\n",
        "    print(\"First \",p,\" natural happy numbers are: \")\n",
        "    i=0\n",
        "    while p != 0:\n",
        "        i += 1\n",
        "        if isHappy(i) == True:\n",
        "            p -= 1\n",
        "            print(i)\n",
        "happylist()"
      ]
    },
    {
      "cell_type": "markdown",
      "source": [
        "5.Develop a program to read a string and perform the following \n",
        "operations:\n",
        "\n",
        "\n",
        "• Print all possible substring \n",
        "\n",
        "\n",
        "• Print all possible substrings of length K\n",
        "\n",
        "\n",
        "• Print all possible substrings of length K with N distinct \n",
        "characters\n",
        "\n",
        "\n",
        "• Print all palindrome substrings"
      ],
      "metadata": {
        "id": "fHr1_fl9IE2J"
      }
    },
    {
      "cell_type": "code",
      "execution_count": 3,
      "metadata": {
        "colab": {
          "base_uri": "https://localhost:8080/"
        },
        "id": "SevVjGeRdG6o",
        "outputId": "3f6eddec-9167-4308-f1af-1db5c62af5cc"
      },
      "outputs": [
        {
          "output_type": "stream",
          "name": "stdout",
          "text": [
            "Enter the string :  abcd\n",
            " Sub Strings are\n",
            "a , ab , abc , abcd , b , bc , bcd , c , cd , d , \n",
            "Enter length of the substring 2\n",
            "\n",
            " Sub Strings with length  2  are\n",
            "ab , bc , cd , \n",
            "Enter the no of distinct characters4\n",
            "\n",
            " Sub Strings with length  2 and  4  distinct characters are\n",
            "\n",
            "Sub Strings with Maximum Length and  4  characters\n",
            "abcd , \n",
            "The Paliandrome Strings are \n",
            "a , b , c , d , "
          ]
        }
      ],
      "source": [
        "def subString(a):\n",
        "  for i in range(0,len(a)+1):\n",
        "    for j in range(i+1,len(a)+1):\n",
        "      s = a[i:j]\n",
        "      print(s,end=\" , \")\n",
        "def substringk(a,size):\n",
        "  for i in range(0,len(a)+1):\n",
        "    for j in range(i+1,len(a)+1):\n",
        "      s = a[i:j]\n",
        "      if len(s)==size:\n",
        "        print(s,end=\" , \")\n",
        "def substringN(a,size,N):\n",
        "  for i in range(0,len(a)+1):\n",
        "    for j in range(i+1,len(a)+1):\n",
        "      s = a[i:j]\n",
        "      if len(s)==size:\n",
        "        distinct = set(s)\n",
        "        if len(distinct) == N:\n",
        "          print(s,end=\" , \")\n",
        "def substringMax(a,N):\n",
        "  string_list = []\n",
        "  for i in range(0,len(a)+1):\n",
        "    for j in range(i+1,len(a)+1):\n",
        "      s = a[i:j]\n",
        "      distinct = set(s)\n",
        "      if len(distinct) == N:\n",
        "        string_list.append(s)\n",
        "\n",
        "  length = len(max(string_list,key = len)) \n",
        "  for i in string_list:\n",
        "    if len(i)==length:\n",
        "      print(i,end=\" , \")\n",
        "def paliandrome(a):\n",
        "  for i in range(0,len(a)+1):\n",
        "    for j in range(i+1,len(a)+1):\n",
        "      s = a[i:j]\n",
        "      reverse = s[::-1]\n",
        "      if reverse == s:\n",
        "        print(s , end = \" , \")\n",
        "\n",
        "\n",
        "a = input(\"Enter the string :  \")\n",
        "print(\" Sub Strings are\")\n",
        "subString(a)\n",
        "\n",
        "length = int(input(\"\\nEnter length of the substring \"))\n",
        "print(\"\\n Sub Strings with length \",length,\" are\")\n",
        "substringk(a,length) \n",
        "\n",
        "num_of_distinct = int(input(\"\\nEnter the no of distinct characters\"))\n",
        "print(\"\\n Sub Strings with length \",length,\"and \",num_of_distinct,\" distinct characters are\")\n",
        "substringN(a,length,num_of_distinct)\n",
        "print(\"\\nSub Strings with Maximum Length and \",num_of_distinct,\" characters\")\n",
        "substringMax(a,num_of_distinct)\n",
        "print(\"\\nThe Paliandrome Strings are \")\n",
        "paliandrome(a)\n",
        "      \n",
        "              \n",
        "      "
      ]
    }
  ],
  "metadata": {
    "colab": {
      "collapsed_sections": [],
      "name": "PythonLabcycle1.ipynb",
      "provenance": []
    },
    "kernelspec": {
      "display_name": "Python 3",
      "name": "python3"
    },
    "language_info": {
      "name": "python"
    }
  },
  "nbformat": 4,
  "nbformat_minor": 0
}