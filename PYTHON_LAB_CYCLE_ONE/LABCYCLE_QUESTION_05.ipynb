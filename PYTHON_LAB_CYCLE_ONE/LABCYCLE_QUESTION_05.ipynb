{
  "nbformat": 4,
  "nbformat_minor": 0,
  "metadata": {
    "colab": {
      "name": "LABCYCLE QUESTION : 05.ipynb",
      "provenance": [],
      "collapsed_sections": []
    },
    "kernelspec": {
      "name": "python3",
      "display_name": "Python 3"
    },
    "language_info": {
      "name": "python"
    }
  },
  "cells": [
    {
      "cell_type": "markdown",
      "source": [
        "# ***PYTHON LABCYCLE QUESTION : 05***"
      ],
      "metadata": {
        "id": "Ye1jXA2VBrhH"
      }
    },
    {
      "cell_type": "code",
      "execution_count": 3,
      "metadata": {
        "colab": {
          "base_uri": "https://localhost:8080/"
        },
        "id": "r5vA62ReBrB8",
        "outputId": "acc1a655-25ae-42bf-ab2a-5a2d8f69a3a8"
      },
      "outputs": [
        {
          "output_type": "stream",
          "name": "stdout",
          "text": [
            "Enter the string :  ABCD\n",
            " Sub Strings are\n",
            "A , AB , ABC , ABCD , B , BC , BCD , C , CD , D , \n",
            "Enter length of the substring 2\n",
            "\n",
            " Sub Strings with length  2  are\n",
            "AB , BC , CD , \n",
            "Enter the no of distinct characters2\n",
            "\n",
            " Sub Strings with length  2 and  2  distinct characters are\n",
            "AB , BC , CD , \n",
            "Sub Strings with Maximum Length and  2  characters\n",
            "AB , BC , CD , \n",
            "The Paliandrome Strings are \n",
            "A , B , C , D , "
          ]
        }
      ],
      "source": [
        "#5.Develop a program to read a string and perform the following operations:\n",
        "\n",
        "#• Print all possible substring\n",
        "\n",
        "#• Print all possible substrings of length K\n",
        "\n",
        "#• Print all possible substrings of length K with N distinct characters\n",
        "\n",
        "#• Print all palindrome substrings\n",
        "\n",
        "def subString(a):\n",
        "  for i in range(0,len(a)+1):\n",
        "    for j in range(i+1,len(a)+1):\n",
        "      s = a[i:j]\n",
        "      print(s,end=\" , \")\n",
        "def substringk(a,size):\n",
        "  for i in range(0,len(a)+1):\n",
        "    for j in range(i+1,len(a)+1):\n",
        "      s = a[i:j]\n",
        "      if len(s)==size:\n",
        "        print(s,end=\" , \")\n",
        "def substringN(a,size,N):\n",
        "  for i in range(0,len(a)+1):\n",
        "    for j in range(i+1,len(a)+1):\n",
        "      s = a[i:j]\n",
        "      if len(s)==size:\n",
        "        distinct = set(s)\n",
        "        if len(distinct) == N:\n",
        "          print(s,end=\" , \")\n",
        "def substringMax(a,N):\n",
        "  string_list = []\n",
        "  for i in range(0,len(a)+1):\n",
        "    for j in range(i+1,len(a)+1):\n",
        "      s = a[i:j]\n",
        "      distinct = set(s)\n",
        "      if len(distinct) == N:\n",
        "        string_list.append(s)\n",
        "\n",
        "        \n",
        "  length = len(max(string_list,key = len)) \n",
        "  for i in string_list:\n",
        "    if len(i)==length:\n",
        "      print(i,end=\" , \")\n",
        "def paliandrome(a):\n",
        "  for i in range(0,len(a)+1):\n",
        "    for j in range(i+1,len(a)+1):\n",
        "      s = a[i:j]\n",
        "      reverse = s[::-1]\n",
        "      if reverse == s:\n",
        "        print(s , end = \" , \")\n",
        "\n",
        "\n",
        "a = input(\"Enter the string :  \")\n",
        "print(\" Sub Strings are\")\n",
        "subString(a)\n",
        "\n",
        "length = int(input(\"\\nEnter length of the substring \"))\n",
        "print(\"\\n Sub Strings with length \",length,\" are\")\n",
        "substringk(a,length) \n",
        "\n",
        "num_of_distinct = int(input(\"\\nEnter the no of distinct characters\"))\n",
        "print(\"\\n Sub Strings with length \",length,\"and \",num_of_distinct,\" distinct characters are\")\n",
        "substringN(a,length,num_of_distinct)\n",
        "print(\"\\nSub Strings with Maximum Length and \",num_of_distinct,\" characters\")\n",
        "substringMax(a,num_of_distinct)\n",
        "print(\"\\nThe Paliandrome Strings are \")\n",
        "paliandrome(a)"
      ]
    }
  ]
}