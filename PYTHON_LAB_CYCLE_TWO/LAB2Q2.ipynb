{
  "nbformat": 4,
  "nbformat_minor": 0,
  "metadata": {
    "colab": {
      "name": "LAB2Q2",
      "provenance": [],
      "collapsed_sections": []
    },
    "kernelspec": {
      "name": "python3",
      "display_name": "Python 3"
    },
    "language_info": {
      "name": "python"
    }
  },
  "cells": [
    {
      "cell_type": "markdown",
      "source": [
        "## ***PYTHON LAB CYCLE 2 QUESTION 2***\n",
        "\n"
      ],
      "metadata": {
        "id": "1l9m1NonLlhv"
      }
    },
    {
      "cell_type": "markdown",
      "source": [
        "2.Write a program to read a string containing numbers separated by a \n",
        "space and convert it as a list of integers. Perform the following \n",
        "operations on it.\n",
        "1. Rotate elements in a list by 'k' position to the right\n",
        "2. Convert the list into a tuple using list comprehension\n",
        "3. Remove all duplicates from the tuple and convert them \n",
        "into a list again.\n",
        "4. Create another list by putting the results of the evaluation \n",
        "of the function 𝑓(𝑥) = 𝑥\n",
        "2 – 𝑥 with each element in the \n",
        "final list\n",
        "5. After sorting them individually, merge the two lists to \n",
        "create a single sorted list."
      ],
      "metadata": {
        "id": "I0Xi6TVeLuPY"
      }
    },
    {
      "cell_type": "code",
      "execution_count": 16,
      "metadata": {
        "colab": {
          "base_uri": "https://localhost:8080/"
        },
        "id": "ODZhFIPrXdBW",
        "outputId": "5f5b9309-1459-4cc6-9ac6-84aaf9ef3fe8"
      },
      "outputs": [
        {
          "output_type": "stream",
          "name": "stdout",
          "text": [
            "Enter the numbers : 1 2 3 4 5 6 7 8\n",
            "List of numbers =  [1, 2, 3, 4, 5, 6, 7, 8]\n",
            "Enter the number,n to rotate elements in a list n position to the right: 4\n",
            "Rotated list  = [5, 6, 7, 8, 1, 2, 3, 4]\n",
            "Tuple =  (1, 2, 3, 4, 5, 6, 7, 8)\n",
            "New list after removing duplicates  :   = [1, 2, 3, 4, 5, 6, 7, 8]\n",
            "Results of evalution the function  = [0, 2, 6, 12, 20, 30, 42, 56]\n",
            "Merged list  = [0, 1, 2, 2, 3, 4, 5, 6, 6, 7, 8, 12, 20, 30, 42, 56]\n"
          ]
        }
      ],
      "source": [
        "\n",
        "numbers = input(\"Enter the numbers : \")\n",
        "\n",
        "\n",
        "numbersList = list(numbers.split(\" \"))\n",
        "\n",
        "\n",
        "\n",
        "numList = []\n",
        "for i in numbersList:\n",
        "  numList.append(int(i))\n",
        "print(\"List of numbers = \",numList)\n",
        "\n",
        "\n",
        "n = int(input(\"Enter the number,n to rotate elements in a list n position to the right: \"))\n",
        "print(\"Rotated list \",end = \" = \")\n",
        "print(numList[-n:]+numList[:-n])\n",
        "\n",
        "\n",
        "TupleList = tuple(numList)\n",
        "print(\"Tuple = \",TupleList)\n",
        "\n",
        "\n",
        "TupleList = tuple(set(TupleList))\n",
        "numList = list(TupleList)\n",
        "print(\"New list after removing duplicates  :  \",end = \" = \")\n",
        "print(numList)\n",
        "\n",
        "values = []\n",
        "for x in numList:\n",
        "  values.append((x**2)-x)\n",
        "print(\"Results of evalution the function \",end = \" = \")\n",
        "print(values)\n",
        "\n",
        "\n",
        "finalList = numList + values\n",
        "finalList.sort()\n",
        "print(\"Merged list \",end = \" = \")\n",
        "print(finalList)"
      ]
    }
  ]
}