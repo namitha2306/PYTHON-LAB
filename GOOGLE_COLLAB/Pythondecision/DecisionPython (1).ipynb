{
  "nbformat": 4,
  "nbformat_minor": 0,
  "metadata": {
    "colab": {
      "name": "DecisionPython.ipynb",
      "provenance": [],
      "collapsed_sections": []
    },
    "kernelspec": {
      "name": "python3",
      "display_name": "Python 3"
    },
    "language_info": {
      "name": "python"
    }
  },
  "cells": [
    {
      "cell_type": "markdown",
      "source": [
        "<style type=\"text/css\">\n",
        ".tg  {border-collapse:collapse;border-spacing:0;}\n",
        ".tg td{border-color:black;border-style:solid;border-width:1px;font-family:Arial, sans-serif;font-size:14px;\n",
        "  overflow:hidden;padding:10px 15px;word-break:normal;}\n",
        ".tg th{border-color:black;border-style:solid;border-width:1px;font-family:Arial, sans-serif;font-size:14px;\n",
        "  font-weight:normal;overflow:hidden;padding:10px 15px;word-break:normal;}\n",
        ".tg .tg-0pky{border-color:inherit;text-align:left;vertical-align:top}\n",
        ".tg .tg-0lax{text-align:left;vertical-align:top}\n",
        "</style>\n",
        "<table class=\"tg\">\n",
        "<thead>\n",
        "  <tr>\n",
        "    <th class=\"tg-0pky\">Test case no.</th>\n",
        "    <th class=\"tg-0pky\">Descriptions</th>\n",
        "    <th class=\"tg-0pky\">Input</th>\n",
        "    <th class=\"tg-0pky\">Expected Outcome</th>\n",
        "    <th class=\"tg-0pky\">Actual Outcome</th>\n",
        "    <th class=\"tg-0lax\">Result</th>\n",
        "  </tr>\n",
        "</thead>\n",
        "<tbody>\n",
        "  <tr>\n",
        "    <td class=\"tg-0pky\">1</td>\n",
        "    <td class=\"tg-0pky\">Biggest of two numbers</td>\n",
        "    <td class=\"tg-0pky\">12,90</td>\n",
        "    <td class=\"tg-0pky\">90</td>\n",
        "    <td class=\"tg-0pky\">90</td>\n",
        "    <td class=\"tg-0lax\">Pass</td>\n",
        "  </tr>\n",
        "  <tr>\n",
        "    <td class=\"tg-0lax\">2</td>\n",
        "    <td class=\"tg-0lax\">Smallest of three numbers</td>\n",
        "    <td class=\"tg-0lax\">11,2,3</td>\n",
        "    <td class=\"tg-0lax\">2</td>\n",
        "    <td class=\"tg-0lax\">2</td>\n",
        "    <td class=\"tg-0lax\">Pass</td>\n",
        "  </tr>\n",
        "  <tr>\n",
        "    <td class=\"tg-0pky\">3</td>\n",
        "    <td class=\"tg-0pky\">Distance between two points</td>\n",
        "    <td class=\"tg-0pky\">20,10</td>\n",
        "    <td class=\"tg-0pky\">10</td>\n",
        "    <td class=\"tg-0pky\">10</td>\n",
        "    <td class=\"tg-0lax\">Pass</td>\n",
        "  </tr>\n",
        "  <tr>\n",
        "    <td class=\"tg-0pky\">4</td>\n",
        "    <td class=\"tg-0pky\">Check whether two digit or not</td>\n",
        "    <td class=\"tg-0pky\">99</td>\n",
        "    <td class=\"tg-0pky\">99 is a two digit number</td>\n",
        "    <td class=\"tg-0pky\">99 is&nbsp;&nbsp;a two digit number</td>\n",
        "    <td class=\"tg-0lax\">Pass</td>\n",
        "  </tr>\n",
        "  <tr>\n",
        "    <td class=\"tg-0lax\">5</td>\n",
        "    <td class=\"tg-0lax\">Check negative, positive or zero</td>\n",
        "    <td class=\"tg-0lax\">3</td>\n",
        "    <td class=\"tg-0lax\">positive</td>\n",
        "    <td class=\"tg-0lax\">positive</td>\n",
        "    <td class=\"tg-0lax\">Pass</td>\n",
        "  </tr>\n",
        "  <tr>\n",
        "    <td class=\"tg-0lax\">6</td>\n",
        "    <td class=\"tg-0lax\">Check whether a number multiple<br>of other</td>\n",
        "    <td class=\"tg-0lax\">7,9</td>\n",
        "    <td class=\"tg-0lax\">Not a mutiple</td>\n",
        "    <td class=\"tg-0lax\">Not a multiple</td>\n",
        "    <td class=\"tg-0lax\">Pass</td>\n",
        "  </tr>\n",
        "  <tr>\n",
        "    <td class=\"tg-0lax\">7</td>\n",
        "    <td class=\"tg-0lax\">Smallest digit in a two digit number</td>\n",
        "    <td class=\"tg-0lax\">23</td>\n",
        "    <td class=\"tg-0lax\">2 is the smallest digit in 23</td>\n",
        "    <td class=\"tg-0lax\">2 is the smallest digit in 23</td>\n",
        "    <td class=\"tg-0lax\">Pass</td>\n",
        "  </tr>\n",
        "  <tr>\n",
        "    <td class=\"tg-0lax\">8</td>\n",
        "    <td class=\"tg-0lax\">Nature of solution of a quadratic<br>number</td>\n",
        "    <td class=\"tg-0lax\">2,2,2</td>\n",
        "    <td class=\"tg-0lax\">Roots are imaginary</td>\n",
        "    <td class=\"tg-0lax\">Roots are imaginary</td>\n",
        "    <td class=\"tg-0lax\">Pass</td>\n",
        "  </tr>\n",
        "</tbody>\n",
        "</table>\n",
        "\n"
      ],
      "metadata": {
        "id": "ABm60XHTtvV6"
      }
    },
    {
      "cell_type": "markdown",
      "source": [
        "***PYTHON :- DECISIONAL PROBLEMS***\n",
        "\n",
        "\n",
        "\n"
      ],
      "metadata": {
        "id": "F7tKI9x91KLl"
      }
    },
    {
      "cell_type": "markdown",
      "source": [
        "1.Write a program to find biggest of two numbers"
      ],
      "metadata": {
        "id": "UrJFXthX1BvN"
      }
    },
    {
      "cell_type": "code",
      "source": [
        "A = int(input(\"Enter first number : \"))\n",
        "B = int(input(\"Enter second number : \"))\n",
        "if A>B:\n",
        "  print('Biggest number is ',A)\n",
        "else:\n",
        "  print('Biggest number is ',B)  "
      ],
      "metadata": {
        "colab": {
          "base_uri": "https://localhost:8080/"
        },
        "id": "-YTDTWMG1khN",
        "outputId": "9bd4b634-1db3-4f49-bc4d-05270a5c25b8"
      },
      "execution_count": null,
      "outputs": [
        {
          "output_type": "stream",
          "name": "stdout",
          "text": [
            "Enter first number : 12\n",
            "Enter second number : 90\n",
            "Biggest number is  90\n"
          ]
        }
      ]
    },
    {
      "cell_type": "markdown",
      "source": [
        "2.Write a program to find the smallest of three numbers."
      ],
      "metadata": {
        "id": "RhFTVx9j3KUw"
      }
    },
    {
      "cell_type": "code",
      "source": [
        "A = int(input(\"Enter first number : \"))\n",
        "B = int(input(\"Enter second number : \"))\n",
        "C = int(input(\"Enter third number : \"))\n",
        "if A<B and A<C:\n",
        "  print(\"Smallest number is : \",A)\n",
        "if B<A and B<C:\n",
        "  print(\"Smallest number is : \",B)\n",
        "if C<A and C<B:\n",
        "    print(\"Smallest number is : \",C)\n"
      ],
      "metadata": {
        "colab": {
          "base_uri": "https://localhost:8080/"
        },
        "id": "nM1IMb0C3WJn",
        "outputId": "4f86b9da-da0d-4c9c-b818-547727bafb5d"
      },
      "execution_count": null,
      "outputs": [
        {
          "output_type": "stream",
          "name": "stdout",
          "text": [
            "Enter first number : 11\n",
            "Enter second number : 2\n",
            "Enter third number : 3\n",
            "Smallest number is :  2\n"
          ]
        }
      ]
    },
    {
      "cell_type": "markdown",
      "source": [
        "3.Write a program to find distance between two points a number line ."
      ],
      "metadata": {
        "id": "SXnTn5jw5e9s"
      }
    },
    {
      "cell_type": "code",
      "source": [
        "A = int(input('Enter first point of line : '))\n",
        "B = int(input('Enter second point of line : '))\n",
        "if A>B:\n",
        "  print(\"Distance between two points is \",A-B)\n",
        "else:\n",
        "   print(\"Distance  between two points is \",B-A)\n",
        "\n"
      ],
      "metadata": {
        "id": "DS9iVssH5u0K",
        "colab": {
          "base_uri": "https://localhost:8080/"
        },
        "outputId": "d851e132-4b30-47eb-fac8-1225888d6cfb"
      },
      "execution_count": null,
      "outputs": [
        {
          "output_type": "stream",
          "name": "stdout",
          "text": [
            "Enter first point of line : 20\n",
            "Enter second point of line : 10\n",
            "Distance between two points is  10\n"
          ]
        }
      ]
    },
    {
      "cell_type": "markdown",
      "source": [
        "4.Write a program to check whether a number is two digit or not."
      ],
      "metadata": {
        "id": "AZBxVjgf7PdQ"
      }
    },
    {
      "cell_type": "code",
      "source": [
        "A = int(input(\"Enter a number : \"))\n",
        "if A>9 and A<100 :\n",
        "  print(A,\"is two digit number.\")\n",
        "elif A<-9 and A>-100:\n",
        "  print(A,\"is two digit mumber\")\n",
        "else :\n",
        "  print(A, \" is not a two digit number.\")"
      ],
      "metadata": {
        "colab": {
          "base_uri": "https://localhost:8080/"
        },
        "id": "PHqMrZCc7b3j",
        "outputId": "151c829f-472c-4204-f2cd-b4a791bea78e"
      },
      "execution_count": null,
      "outputs": [
        {
          "output_type": "stream",
          "name": "stdout",
          "text": [
            "Enter a number : 99\n",
            "99 is two digit number.\n"
          ]
        }
      ]
    },
    {
      "cell_type": "markdown",
      "source": [
        "5.Write a program to check a number is negative ,positive or zero."
      ],
      "metadata": {
        "id": "0eoAkCy-86Mt"
      }
    },
    {
      "cell_type": "code",
      "source": [
        "N = int(input(\"Enter a number : \"))\n",
        "if N>0:\n",
        "  print('It is a positive number')\n",
        "elif N<0:\n",
        "    print('It is a negative number')\n",
        "else:\n",
        "      print('The number is zero')"
      ],
      "metadata": {
        "colab": {
          "base_uri": "https://localhost:8080/"
        },
        "id": "XewGx3Ma9Xk3",
        "outputId": "12d935f0-498a-4ca3-ec5d-e09e66a7b886"
      },
      "execution_count": null,
      "outputs": [
        {
          "output_type": "stream",
          "name": "stdout",
          "text": [
            "Enter a number : 3\n",
            "It is a positive number\n"
          ]
        }
      ]
    },
    {
      "cell_type": "markdown",
      "source": [
        "6.Write a program to check whether a number is multiple of another."
      ],
      "metadata": {
        "id": "cIF8U6GE9nB2"
      }
    },
    {
      "cell_type": "code",
      "source": [
        "A = int(input('Enter first number : '))\n",
        "B = int(input('Enter second number : '))\n",
        "if A%B==0 :\n",
        "   print(A,\" is a Multiple of \",B)\n",
        "elif B%A==0:\n",
        "  print(B,\" is a Multiple of \",A)\n",
        "else:\n",
        "    print(\"Not a multiple\")\n",
        "\n",
        "\n",
        "  "
      ],
      "metadata": {
        "colab": {
          "base_uri": "https://localhost:8080/"
        },
        "id": "cswsWDCO-HIr",
        "outputId": "bf7e378f-2001-41a7-bafd-3d9403149c1e"
      },
      "execution_count": null,
      "outputs": [
        {
          "output_type": "stream",
          "name": "stdout",
          "text": [
            "Enter first number : 7\n",
            "Enter second number : 9\n",
            "Not a multiple\n"
          ]
        }
      ]
    },
    {
      "cell_type": "markdown",
      "source": [
        "7.Write a program to find smallest digit in a two digit number."
      ],
      "metadata": {
        "id": "sq69TM0Q_lRo"
      }
    },
    {
      "cell_type": "code",
      "source": [
        "A = int(input(\"Enter a two digit number : \"))\n",
        "B = A%10\n",
        "C = int(A/10)\n",
        "if B>C:\n",
        "  print(C,\" is the smallest number in \",A)\n",
        "else:\n",
        "   print(B,\" is the smallest number in \",A)"
      ],
      "metadata": {
        "colab": {
          "base_uri": "https://localhost:8080/"
        },
        "id": "EumQLtUw_4n0",
        "outputId": "3e625280-35ae-4811-eb03-b557aab78dd0"
      },
      "execution_count": null,
      "outputs": [
        {
          "output_type": "stream",
          "name": "stdout",
          "text": [
            "Enter a two digit number : 23\n",
            "2  is the smallest number in  23\n"
          ]
        }
      ]
    },
    {
      "cell_type": "markdown",
      "source": [
        "8.Write a program to print nature of the solution of a quadratic equation"
      ],
      "metadata": {
        "id": "xbUjgnqyC9Fm"
      }
    },
    {
      "cell_type": "code",
      "source": [
        "a = int(input('Enter coefficient of x^2 : '))\n",
        "b = int(input(\"Enter coefficient of x : \"))\n",
        "c = int(input(\"Enter constant : \"))\n",
        "S = b^2-4*a*c\n",
        "if S==0:\n",
        "  print(\"Same real roots\")\n",
        "elif S>0:\n",
        "  print('Different roots')\n",
        "else:\n",
        "  print('Roots are imaginary')"
      ],
      "metadata": {
        "colab": {
          "base_uri": "https://localhost:8080/"
        },
        "id": "WLMcn2bTDMet",
        "outputId": "d694b7b2-d0a3-49aa-ac01-06444c2d47e8"
      },
      "execution_count": null,
      "outputs": [
        {
          "output_type": "stream",
          "name": "stdout",
          "text": [
            "Enter coefficient of x^2 : 2\n",
            "Enter coefficient of x : 2\n",
            "Enter constant : 2\n",
            "Roots are imaginary\n"
          ]
        }
      ]
    }
  ]
}