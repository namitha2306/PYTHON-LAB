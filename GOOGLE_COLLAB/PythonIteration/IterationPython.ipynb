{
  "nbformat": 4,
  "nbformat_minor": 0,
  "metadata": {
    "colab": {
      "name": "IterationPython.ipynb",
      "provenance": [],
      "collapsed_sections": []
    },
    "kernelspec": {
      "name": "python3",
      "display_name": "Python 3"
    },
    "language_info": {
      "name": "python"
    }
  },
  "cells": [
    {
      "cell_type": "markdown",
      "source": [
        "# ITERATION PROBLEMS IN PYTHON\n"
      ],
      "metadata": {
        "id": "e3U4YeSTMtju"
      }
    },
    {
      "cell_type": "markdown",
      "source": [
        "1.Write a problem to find reverse of a given number."
      ],
      "metadata": {
        "id": "YgWdSPxbM3zm"
      }
    },
    {
      "cell_type": "code",
      "source": [
        "n =int(input('Enter a number: '))\n",
        "\n",
        "Rev = 0\n",
        "\n",
        "while (n>0):\n",
        "  digit = n%10\n",
        "  Rev = Rev*10 + digit\n",
        "  n//=10\n",
        "print(\"The reverse is \" ,Rev)\n",
        "  "
      ],
      "metadata": {
        "colab": {
          "base_uri": "https://localhost:8080/"
        },
        "id": "T48poiZ2Pqtu",
        "outputId": "cc925716-832b-4d70-cbab-1f295accf416"
      },
      "execution_count": null,
      "outputs": [
        {
          "output_type": "stream",
          "name": "stdout",
          "text": [
            "Enter a number: 123\n",
            "The reverse is  321\n"
          ]
        }
      ]
    },
    {
      "cell_type": "markdown",
      "source": [
        "2.Write a program to find sum of first N natural numbers."
      ],
      "metadata": {
        "id": "Q3hGqnIqN-Ls"
      }
    },
    {
      "cell_type": "code",
      "source": [
        "n = int(input('Enter limit '))\n",
        "Sum = 0 \n",
        "\n",
        "for i in range(1,n+1):\n",
        "  Sum = Sum+i\n",
        "print('Sum of first n natural numbers is : ',Sum)\n"
      ],
      "metadata": {
        "colab": {
          "base_uri": "https://localhost:8080/"
        },
        "id": "TDbxJ3wLOW_p",
        "outputId": "fe62fff7-c596-4abf-d715-398c67b56b68"
      },
      "execution_count": null,
      "outputs": [
        {
          "output_type": "stream",
          "name": "stdout",
          "text": [
            "Enter limit 6\n",
            "Sum of first n natural numbers is :  21\n"
          ]
        }
      ]
    },
    {
      "cell_type": "markdown",
      "source": [
        "3.Write a program to prind the sum of factors of a number."
      ],
      "metadata": {
        "id": "WxSgs-6uQmff"
      }
    },
    {
      "cell_type": "code",
      "source": [
        "n = int(input('Enter a number : '))\n",
        "sum = 0 \n",
        "f = 1\n",
        "print('Factors are : ')\n",
        "for  f in range(1,n+1):\n",
        " if n%f==0:\n",
        "   print(f,end=' ')\n",
        "   sum =sum+f\n",
        "\n",
        "print ('\\nSum of factors is : ',sum)    "
      ],
      "metadata": {
        "colab": {
          "base_uri": "https://localhost:8080/"
        },
        "id": "Jup-ahU6Qx2_",
        "outputId": "740f05da-3f92-4c1d-c656-62b3f97eb705"
      },
      "execution_count": null,
      "outputs": [
        {
          "output_type": "stream",
          "name": "stdout",
          "text": [
            "Enter a number : 5\n",
            "Factors are : \n",
            "1 5 \n",
            "Sum of factors is :  6\n"
          ]
        }
      ]
    },
    {
      "cell_type": "markdown",
      "source": [
        "4.Write a program to print N terms of an arithmetic sequence "
      ],
      "metadata": {
        "id": "S9cd4TTzUkn1"
      }
    },
    {
      "cell_type": "code",
      "source": [
        "n = int(input(\"Enter number of terms : \"))\n",
        "d = int(input(\"Enter common difference \"))\n",
        "a = int(input(\"Enter first term of AP \"))\n",
        "i = 0\n",
        "m = 0\n",
        "\n",
        "print('AP IS : ')\n",
        "while n>i:\n",
        "  i = i+1\n",
        "  m = a+((i-1)*d)\n",
        "  print(m,end=\" \")"
      ],
      "metadata": {
        "colab": {
          "base_uri": "https://localhost:8080/"
        },
        "id": "5NUcsBXjUxI1",
        "outputId": "f8569e93-d21d-4523-acca-567b335f7669"
      },
      "execution_count": null,
      "outputs": [
        {
          "output_type": "stream",
          "name": "stdout",
          "text": [
            "Enter number of terms : 6\n",
            "Enter common difference 2\n",
            "Enter first term of AP 2\n",
            "AP IS : \n",
            "2 4 6 8 10 12 "
          ]
        }
      ]
    },
    {
      "cell_type": "markdown",
      "source": [
        "5.Write a flowchart to print n terms of fibonacci series"
      ],
      "metadata": {
        "id": "PHO4iM8UXBYk"
      }
    },
    {
      "cell_type": "code",
      "source": [
        "n = int(input(\"Enter the limit : \"))\n",
        "f1 = 0\n",
        "f2 = 1\n",
        "f3 = 2\n",
        "print(f1)\n",
        "print(f2)\n",
        "while n>=2:\n",
        "  temp = f1\n",
        "  f1 = f2\n",
        "  f2 = f2+temp\n",
        "  print(f2)\n",
        "  n = n-1"
      ],
      "metadata": {
        "colab": {
          "base_uri": "https://localhost:8080/"
        },
        "id": "MTIldkP4XKrc",
        "outputId": "ac097aa7-d49f-486b-ad4f-742d34c7bb2a"
      },
      "execution_count": null,
      "outputs": [
        {
          "output_type": "stream",
          "name": "stdout",
          "text": [
            "Enter the limit : 5\n",
            "0\n",
            "1\n",
            "1\n",
            "2\n",
            "3\n",
            "5\n"
          ]
        }
      ]
    },
    {
      "cell_type": "markdown",
      "source": [
        "6. Write a program to check whether a number is palindrome or not."
      ],
      "metadata": {
        "id": "_wCHB648Z9DX"
      }
    },
    {
      "cell_type": "code",
      "source": [
        "n = int(input('Enter a number : '))\n",
        "temp = n\n",
        "Rev = 0\n",
        "while (n>0):\n",
        "  digit = n%10\n",
        "  Rev = Rev*10+digit\n",
        "  n = n//10\n",
        "if(temp==Rev):\n",
        "   print(\"The number is palindrome.\")\n",
        "  \n",
        "else:\n",
        " print(\"The number is not palindrome\")  "
      ],
      "metadata": {
        "colab": {
          "base_uri": "https://localhost:8080/"
        },
        "id": "uVfl_ymcaVJN",
        "outputId": "e8fba11a-973f-48e7-da86-dd4867f205e9"
      },
      "execution_count": null,
      "outputs": [
        {
          "output_type": "stream",
          "name": "stdout",
          "text": [
            "Enter a number : 121\n",
            "The number is palindrome.\n"
          ]
        }
      ]
    },
    {
      "cell_type": "markdown",
      "source": [
        "7.Write a program to check whether a given number is armstrong or not. "
      ],
      "metadata": {
        "id": "LYWl-A4gbtOe"
      }
    },
    {
      "cell_type": "code",
      "source": [
        "n = int(input('Enter a number : '))\n",
        "sum = 0\n",
        "temp = n\n",
        "while temp>0:\n",
        "    digit = temp%10\n",
        "    sum += digit**3\n",
        "    temp = temp//10\n",
        "if(n == sum):\n",
        "    print(n,\"is an armstrong number\")\n",
        "else:\n",
        "    print(n,\"is not an armstrong number\")"
      ],
      "metadata": {
        "colab": {
          "base_uri": "https://localhost:8080/"
        },
        "id": "FavJJINib8Vq",
        "outputId": "99173b0f-9ddb-4cba-985c-fdd58348dc90"
      },
      "execution_count": null,
      "outputs": [
        {
          "output_type": "stream",
          "name": "stdout",
          "text": [
            "Enter a number : 153\n",
            "153 is an armstrong number\n"
          ]
        }
      ]
    },
    {
      "cell_type": "markdown",
      "source": [
        "8.Write a program to evaluate x^n"
      ],
      "metadata": {
        "id": "7CbCMpTCdb5Q"
      }
    },
    {
      "cell_type": "code",
      "source": [
        "x = int(input('Enter : '))\n",
        "n = int(input('Enter value of exponent : '))\n",
        "value = x**n\n",
        "print(\"x^n : \",value)"
      ],
      "metadata": {
        "colab": {
          "base_uri": "https://localhost:8080/"
        },
        "id": "68vj5QRpdnma",
        "outputId": "84ad3136-85d1-4091-8854-d94cf458f9e8"
      },
      "execution_count": null,
      "outputs": [
        {
          "output_type": "stream",
          "name": "stdout",
          "text": [
            "Enter : 8\n",
            "Enter value of exponent : 2\n",
            "x^n :  64\n"
          ]
        }
      ]
    },
    {
      "cell_type": "markdown",
      "source": [
        "9.Write a program to print first n odd numbers"
      ],
      "metadata": {
        "id": "r8OlIXWXkH82"
      }
    },
    {
      "cell_type": "code",
      "source": [
        "n = int(input('Enter the limit : '))\n",
        "i = 1\n",
        "print(\"Odd numbers are : \")\n",
        "for i in range(1,n+1,2):\n",
        "\n",
        "  print(i,end=' ')"
      ],
      "metadata": {
        "colab": {
          "base_uri": "https://localhost:8080/"
        },
        "id": "kkSslVNkkTgi",
        "outputId": "b460cffa-2a85-4764-9173-98dd9cbade1b"
      },
      "execution_count": null,
      "outputs": [
        {
          "output_type": "stream",
          "name": "stdout",
          "text": [
            "Enter the limit : 10\n",
            "Odd numbers are : \n",
            "1 3 5 7 9 "
          ]
        }
      ]
    },
    {
      "cell_type": "markdown",
      "source": [
        "10.Write a program to find first GCD of 2 numbers"
      ],
      "metadata": {
        "id": "B1TJgAm31IQj"
      }
    },
    {
      "cell_type": "code",
      "source": [
        "n1=int(input('Enter the first number : '))\n",
        "n2=int(input('Enter the second number : '))\n",
        "gcd=0\n",
        "c=0\n",
        "while(c<n1):\n",
        "  c=c+1\n",
        "  if(n1%c==0 and n2%c==0):\n",
        "    gcd=c\n",
        "if(gcd==0):\n",
        "  print('No GCD')\n",
        "else:\n",
        "  print('GCD is : ',gcd)"
      ],
      "metadata": {
        "colab": {
          "base_uri": "https://localhost:8080/"
        },
        "id": "owljoQ661Nh0",
        "outputId": "8c0f5ba2-91a7-4a73-ef00-6a784466c11e"
      },
      "execution_count": 1,
      "outputs": [
        {
          "output_type": "stream",
          "name": "stdout",
          "text": [
            "Enter the first number : 10\n",
            "Enter the second number : 24\n",
            "GCD is :  2\n"
          ]
        }
      ]
    },
    {
      "cell_type": "markdown",
      "source": [
        "11.Write a program to print factorial of a given number."
      ],
      "metadata": {
        "id": "H_1HYtLXKvpa"
      }
    },
    {
      "cell_type": "code",
      "source": [
        "num=int(input('Enter the number : '))\n",
        "n=1\n",
        "if(num==0):\n",
        "  print('Factorial of the number is 1')\n",
        "else:\n",
        "  while(num>1):\n",
        "    n=n*num\n",
        "    num=num-1\n",
        "  print('Factorial of the number is : ',n)"
      ],
      "metadata": {
        "id": "pa7z8-YxVUMr",
        "colab": {
          "base_uri": "https://localhost:8080/"
        },
        "outputId": "86c9072d-5e15-4dce-f12c-2f7eb81d37b5"
      },
      "execution_count": 2,
      "outputs": [
        {
          "output_type": "stream",
          "name": "stdout",
          "text": [
            "Enter the number : 5\n",
            "Factorial of the number is :  120\n"
          ]
        }
      ]
    },
    {
      "cell_type": "markdown",
      "source": [
        "12.Sequence"
      ],
      "metadata": {
        "id": "6SdJqHaADxj5"
      }
    },
    {
      "cell_type": "code",
      "source": [
        "num1=int(input('Enter the first number : '))\n",
        "num2=int(input('Enter the last number : '))\n",
        "while(num1<=num2):\n",
        "  sqr=num1*num1\n",
        "  num1=num1+1\n",
        "  print(sqr)"
      ],
      "metadata": {
        "colab": {
          "base_uri": "https://localhost:8080/"
        },
        "id": "V8h3iT2dDcKe",
        "outputId": "7c0218a3-f69a-4ee4-babd-88bf18eeaefe"
      },
      "execution_count": 3,
      "outputs": [
        {
          "output_type": "stream",
          "name": "stdout",
          "text": [
            "Enter the first number : 2\n",
            "Enter the last number : 6\n",
            "4\n",
            "9\n",
            "16\n",
            "25\n",
            "36\n"
          ]
        }
      ]
    },
    {
      "cell_type": "markdown",
      "source": [
        "13.Sum of terms"
      ],
      "metadata": {
        "id": "haHR4sU2D1wZ"
      }
    },
    {
      "cell_type": "code",
      "source": [
        "n=int(input('Enter the number of terms : '))\n",
        "c=1\n",
        "sum=0\n",
        "sign=1\n",
        "while(c<=n):\n",
        "  temp=sign*(c**2)\n",
        "  sum=sum+temp\n",
        "  sign=sign*(-1)\n",
        "  c=c+1\n",
        "print('Toyal sum is : ',sum)"
      ],
      "metadata": {
        "colab": {
          "base_uri": "https://localhost:8080/"
        },
        "id": "8xzB5-u5DjBu",
        "outputId": "e759515a-4974-4da9-d84a-ee8b9264846e"
      },
      "execution_count": 4,
      "outputs": [
        {
          "output_type": "stream",
          "name": "stdout",
          "text": [
            "Enter the number of terms : 5\n",
            "Toyal sum is :  15\n"
          ]
        }
      ]
    },
    {
      "cell_type": "markdown",
      "source": [
        "14.Automorphic"
      ],
      "metadata": {
        "id": "0z3itz4AD6Mb"
      }
    },
    {
      "cell_type": "code",
      "source": [
        "num=int(input('Enter the num : '))\n",
        "c=0\n",
        "sqr=num*num\n",
        "temp=num\n",
        "while(temp>=1):\n",
        "  c=c+1\n",
        "  temp=temp//10\n",
        "if(num==sqr%10**c):\n",
        "  print(num,' is Automorphic')\n",
        "else:\n",
        "  print(num,' is not Auotomorphic')"
      ],
      "metadata": {
        "colab": {
          "base_uri": "https://localhost:8080/"
        },
        "id": "X5pbYHWkDpKA",
        "outputId": "8506dcf1-4f56-46b9-d5fa-d648f373eed6"
      },
      "execution_count": 5,
      "outputs": [
        {
          "output_type": "stream",
          "name": "stdout",
          "text": [
            "Enter the num : 6\n",
            "6  is Automorphic\n"
          ]
        }
      ]
    },
    {
      "cell_type": "markdown",
      "source": [
        "15.BINARY"
      ],
      "metadata": {
        "id": "WgCv1q7sD9Bj"
      }
    },
    {
      "cell_type": "code",
      "source": [
        "bi=int(input('Enter the binary number : '))\n",
        "c=0\n",
        "deci=0\n",
        "while(bi>=1):\n",
        "  remn=bi%10\n",
        "  bi=bi//10\n",
        "  deci=deci+remn*2**c\n",
        "  c=c+1\n",
        "print('Dcimal number is : ',deci)"
      ],
      "metadata": {
        "colab": {
          "base_uri": "https://localhost:8080/"
        },
        "id": "c9VVWfp8Ds4c",
        "outputId": "a7f3f7b8-4184-447f-b62b-7e60a310ff5e"
      },
      "execution_count": 6,
      "outputs": [
        {
          "output_type": "stream",
          "name": "stdout",
          "text": [
            "Enter the binary number : 2002\n",
            "Dcimal number is :  18\n"
          ]
        }
      ]
    }
  ]
}