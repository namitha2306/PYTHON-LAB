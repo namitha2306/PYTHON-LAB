{
  "nbformat": 4,
  "nbformat_minor": 0,
  "metadata": {
    "colab": {
      "name": "Assignmenyt.ipynb",
      "provenance": [],
      "collapsed_sections": []
    },
    "kernelspec": {
      "name": "python3",
      "display_name": "Python 3"
    },
    "language_info": {
      "name": "python"
    }
  },
  "cells": [
    {
      "cell_type": "code",
      "execution_count": null,
      "metadata": {
        "id": "eNFOjH8E4vOA"
      },
      "outputs": [],
      "source": [
        ""
      ]
    },
    {
      "cell_type": "markdown",
      "source": [
        "# ***CLASSES IN PYTHON***\n",
        "\n",
        "A class is a user-defined blueprint or prototype from which objects are created.\n",
        "\n",
        "* Classes are created by keyword class.\n",
        "\n",
        "* Attributes are the variables that belong to a class.\n",
        "* Attributes are always public and can be accessed using the dot (.) operator. Eg.: Myclass.Myattribute\n",
        "\n",
        "\n",
        "\n",
        "```\n",
        "class ClassName:\n",
        "    # Statement-1\n",
        "    .\n",
        "    .\n",
        "    .\n",
        "    # Statement-N\n",
        "```\n",
        "\n"
      ],
      "metadata": {
        "id": "_1yiflLi_YJD"
      }
    },
    {
      "cell_type": "code",
      "source": [
        "class Dog:\n",
        "  pass"
      ],
      "metadata": {
        "id": "aQt9NGlPF84M"
      },
      "execution_count": null,
      "outputs": []
    },
    {
      "cell_type": "markdown",
      "source": [
        "# ***CLASS OBJECTS***\n",
        "\n",
        "An Object is an instance of a Class.A class is like a blueprint while an instance is a copy of the class with actual values.\n",
        "\n",
        "An object consists of : \n",
        "\n",
        "* State: It is represented by the attributes of an object. It also reflects the properties of an object.\n",
        "* Behavior: It is represented by the methods of an object. It also reflects the response of an object to other objects.\n",
        "* Identity: It gives a unique name to an object and enables one object to interact with other objects.\n"
      ],
      "metadata": {
        "id": "BGySZr5fAe-V"
      }
    },
    {
      "cell_type": "code",
      "source": [
        "class Person:\n",
        "  def __init__(self,name,rollno):\n",
        "    self.name = name\n",
        "    self.rollno  = rollno\n",
        "\n",
        "  def  greet(self):\n",
        "     print(\"Hello my name is \",self.name)\n",
        "\n",
        "p1 = Person(\"Rahul\",1)\n",
        "p1.greet()\n",
        "\n"
      ],
      "metadata": {
        "colab": {
          "base_uri": "https://localhost:8080/"
        },
        "id": "sg0r5uRoGE3b",
        "outputId": "2d37747c-e41b-40d4-a16c-bb04d0290f43"
      },
      "execution_count": null,
      "outputs": [
        {
          "output_type": "stream",
          "name": "stdout",
          "text": [
            "Hello my name is  Rahul\n"
          ]
        }
      ]
    },
    {
      "cell_type": "markdown",
      "source": [
        "# ***PUBLIC , PRIVATE , PROTECTED VARIABLES***\n",
        "\n"
      ],
      "metadata": {
        "id": "IxWcJH5WBbLH"
      }
    },
    {
      "cell_type": "markdown",
      "source": [
        "1.Public access modifier\n",
        "\n",
        "The members of a class that are declared public are easily accessible from any part of the program. All data members and member functions of a class are public by default. \n",
        "\n",
        "```\n",
        "var1 = none\n",
        "```\n",
        "\n"
      ],
      "metadata": {
        "id": "3s5XUzURB9mb"
      }
    },
    {
      "cell_type": "code",
      "source": [
        "class Student:\n",
        "      \n",
        "   \n",
        "     def __init__(self, name, age):\n",
        "           self.Name = name\n",
        "           self.Age = age\n",
        " \n",
        "         \n",
        "     def displayAge(self):\n",
        "           \n",
        "          \n",
        "           print(\"Age: \", self.Age)\n",
        "obj = Student(\"Rahul\", 20)\n",
        "print(\"Name: \", obj.Name)\n",
        "obj.displayAge()"
      ],
      "metadata": {
        "colab": {
          "base_uri": "https://localhost:8080/"
        },
        "id": "R1rnqBKvsCkV",
        "outputId": "072d13ac-fe8a-42d7-8ac7-1d72732ed569"
      },
      "execution_count": null,
      "outputs": [
        {
          "output_type": "stream",
          "name": "stdout",
          "text": [
            "Name:  Rahul\n",
            "Age:  20\n"
          ]
        }
      ]
    },
    {
      "cell_type": "markdown",
      "source": [
        "2.Protected acess modifier\n",
        "\n",
        "The members of a class that are declared protected are only accessible to a class derived from it. Data members of a class are declared protected by adding a single underscore ‘_’ symbol before the data member of that class. \n",
        "\n",
        "\n",
        "```\n",
        "_var2 = none\n",
        "```\n",
        "\n"
      ],
      "metadata": {
        "id": "V4lydlH0CDmU"
      }
    },
    {
      "cell_type": "code",
      "source": [
        "class Student:\n",
        "    \n",
        "     \n",
        "     _name = None\n",
        "     _roll = None\n",
        "     _dept = None\n",
        "    \n",
        "    \n",
        "     def __init__(self, name, roll, dept): \n",
        "          self._name = name\n",
        "          self._roll = roll\n",
        "          self._dept = dept\n",
        "    \n",
        "      \n",
        "     def _displayRollAndDept(self):\n",
        " \n",
        "          \n",
        "          print(\"Roll: \", self._roll)\n",
        "          print(\"Dept: \", self._dept)\n",
        " \n",
        " \n",
        "\n",
        "class Person(Student):\n",
        " \n",
        "       \n",
        "       def __init__(self, name, roll, dept):\n",
        "                Student.__init__(self, name, roll, dept)\n",
        "         \n",
        "       \n",
        "       def displayDetails(self):\n",
        "                   \n",
        "                 \n",
        "                print(\"Name: \", self._name)\n",
        "                   \n",
        "                \n",
        "                self._displayRollAndDept()\n",
        " \n",
        "       \n",
        "obj = Person(\"Rahul\", 1, \"Computer Science\")\n",
        " \n",
        "\n",
        "obj.displayDetails()"
      ],
      "metadata": {
        "colab": {
          "base_uri": "https://localhost:8080/"
        },
        "id": "1hWn8RBovqTQ",
        "outputId": "2346247b-721e-4bb5-f5dd-2dfc31c4ea1b"
      },
      "execution_count": null,
      "outputs": [
        {
          "output_type": "stream",
          "name": "stdout",
          "text": [
            "Name:  Rahul\n",
            "Roll:  1\n",
            "Dept:  Computer Science\n"
          ]
        }
      ]
    },
    {
      "cell_type": "markdown",
      "source": [
        "3.Private Access Modifier\n",
        "\n",
        "The members of a class that are declared private are accessible within the class only, private access modifier is the most secure access modifier. Data members of a class are declared private by adding a double underscore ‘__’ symbol before the data member of that class. \n",
        "\n",
        "\n",
        "\n",
        "```\n",
        "__var3  = none\n",
        "```\n",
        "\n"
      ],
      "metadata": {
        "id": "jFKs98A0CKDG"
      }
    },
    {
      "cell_type": "code",
      "source": [
        "class Students:\n",
        "    \n",
        "     \n",
        "     __name = None\n",
        "     __roll = None\n",
        "     __dept = None\n",
        " \n",
        "     def __init__(self, name, roll, dept): \n",
        "          self.__name = name\n",
        "          self.__roll = roll\n",
        "          self.__dept = dept\n",
        " \n",
        "     \n",
        "     def __displayDetails(self):\n",
        "           \n",
        "          \n",
        "           print(\"Name: \", self.__name)\n",
        "           print(\"Roll: \", self.__roll)\n",
        "           print(\"Dept: \", self.__dept)\n",
        "    \n",
        "    \n",
        "     def accessPrivateFunction(self):\n",
        "            \n",
        "           \n",
        "           self.__displayDetails() \n",
        " \n",
        "   \n",
        "obj = Students(\"Rahul\", 1, \"Computer Science\")\n",
        " \n",
        "\n",
        "obj.accessPrivateFunction()"
      ],
      "metadata": {
        "colab": {
          "base_uri": "https://localhost:8080/"
        },
        "id": "Ni5TN98kxSsv",
        "outputId": "a168608d-0340-4c5a-d7a2-e2a77b801524"
      },
      "execution_count": null,
      "outputs": [
        {
          "output_type": "stream",
          "name": "stdout",
          "text": [
            "Name:  Rahul\n",
            "Roll:  1\n",
            "Dept:  Computer Science\n"
          ]
        }
      ]
    },
    {
      "cell_type": "markdown",
      "source": [
        "# ***INHERITENCE IN PYTHON***\n",
        "\n",
        "\n",
        "Inheritance is the capability of one class to derive or inherit the properties from another class. \n",
        "\n",
        "benefits of inheritance are: \n",
        "\n",
        "1.It represents real-world relationships well.\n",
        "\n",
        "2.It provides reusability of a code. We don’t have to write the same code again and again. Also, it allows us to add more features to a class without modifying it.\n",
        "\n",
        "3.It is transitive in nature, which means that if class B inherits from another class A, then all the subclasses of B would automatically inherit from class A.\n",
        "\n",
        "```\n",
        "class derived class name (base class name)\n",
        "```\n",
        "\n",
        "\n"
      ],
      "metadata": {
        "id": "uLNKGUdKC0Mm"
      }
    },
    {
      "cell_type": "code",
      "source": [
        "class Person(object):\n",
        "\n",
        "  def __init__(self,name,rollno):\n",
        "    self.name = name\n",
        "    self.rollno  = rollno\n",
        "  def display(self):\n",
        "    print(self.name)\n",
        "    print(self.rollno)\n",
        "\n",
        "\n",
        "class Student(Person):\n",
        "        def __init__(self,name,rollno,mark,age):\n",
        "              self.mark = mark\n",
        "              self.age = age\n",
        "\n",
        "              Person.__init__(self,name,rollno)\n",
        "\n",
        "\n",
        "a = Student('Namitha',1,10,20)\n",
        "\n",
        "a.display()"
      ],
      "metadata": {
        "colab": {
          "base_uri": "https://localhost:8080/"
        },
        "id": "L7lvbD4KDig3",
        "outputId": "3c36c63d-7842-4cc9-a17f-6e2a2117c920"
      },
      "execution_count": null,
      "outputs": [
        {
          "output_type": "stream",
          "name": "stdout",
          "text": [
            "Namitha\n",
            "1\n"
          ]
        }
      ]
    }
  ]
}