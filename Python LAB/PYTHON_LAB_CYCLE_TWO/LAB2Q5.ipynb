{
  "nbformat": 4,
  "nbformat_minor": 0,
  "metadata": {
    "colab": {
      "name": "LAB2Q5.ipynb",
      "provenance": [],
      "collapsed_sections": []
    },
    "kernelspec": {
      "name": "python3",
      "display_name": "Python 3"
    },
    "language_info": {
      "name": "python"
    }
  },
  "cells": [
    {
      "cell_type": "markdown",
      "source": [
        "# ***PYTHON LABCYCLE 2 QUESTION 2***"
      ],
      "metadata": {
        "id": "xXAvS3cACPOB"
      }
    },
    {
      "cell_type": "markdown",
      "source": [
        "5.Write a program to create a parent class, 3DShapes, with methods \n",
        "printVolume() and printArea(), which prints the Volume and Area,\n",
        "respectively. Create classes Cylinder and Sphere by inheriting\n",
        "3DShapes class. Using these child classes, calculate and print the\n",
        "volume and area of a cylinder and sphere.\n"
      ],
      "metadata": {
        "id": "d0cJwjdqCWuy"
      }
    },
    {
      "cell_type": "code",
      "execution_count": 29,
      "metadata": {
        "id": "_X5ak388r20_",
        "colab": {
          "base_uri": "https://localhost:8080/"
        },
        "outputId": "0d6ef291-ce5e-4b80-df34-94a802f4a1d3"
      },
      "outputs": [
        {
          "output_type": "stream",
          "name": "stdout",
          "text": [
            "Enter the radius of the cylinder 5\n",
            "Enter the height of the cylinder 6\n",
            " Area is : 345.40000000000003\n",
            " Volume is:  471.0\n",
            "\n",
            "Enter the radius of the sphere : 10\n",
            " Area is : 1256.0\n",
            " Volume is:  4186.67\n"
          ]
        }
      ],
      "source": [
        "class  threeDShapes:\n",
        "  def printVolume(shape):\n",
        "    print(\" Volume is: \",shape.Volume)\n",
        "  def printArea(shape):\n",
        "    print(\" Area is :\",shape.Area)\n",
        "  \n",
        "\n",
        "class Cylinder( threeDShapes):\n",
        "  \n",
        "  def __init__(shape,r,h):\n",
        "    shape.Radius = r\n",
        "    shape.Height = h\n",
        "  def calcArea(shape):\n",
        "    shape.Area = 2*3.14*shape.Radius*(shape.Radius+shape.Height)\n",
        "  def calcVolume(shape):\n",
        "    shape.Volume = round((3.14*shape.Radius*shape.Radius*shape.Height),2)\n",
        "\n",
        "\n",
        "class Sphere( threeDShapes):\n",
        "    \n",
        "    def __init__(shape,r):\n",
        "      shape.Radius = r\n",
        "    def calcArea(shape):\n",
        "      shape.Area = 4*3.14*shape.Radius*shape.Radius\n",
        "    def calcVolume(shape):\n",
        "      shape.Volume = round(((4/3)*3.14*(shape.Radius**3)),2)\n",
        "\n",
        "\n",
        "\n",
        "RadiusCylinder = int(input(\"Enter the radius of the cylinder \"))\n",
        "HeightCylinder = int(input(\"Enter the height of the cylinder \"))\n",
        "calcCylinder = Cylinder(RadiusCylinder,HeightCylinder)\n",
        "calcCylinder.calcArea()\n",
        "calcCylinder.printArea()\n",
        "calcCylinder.calcVolume()\n",
        "calcCylinder.printVolume()\n",
        "\n",
        "\n",
        "RadiusSphere = int(input(\"\\nEnter the radius of the sphere : \"))\n",
        "calcSphere = Sphere(RadiusSphere)\n",
        "calcSphere.calcArea()\n",
        "calcSphere.calcVolume()\n",
        "calcSphere.printArea()\n",
        "calcSphere.printVolume()"
      ]
    }
  ]
}