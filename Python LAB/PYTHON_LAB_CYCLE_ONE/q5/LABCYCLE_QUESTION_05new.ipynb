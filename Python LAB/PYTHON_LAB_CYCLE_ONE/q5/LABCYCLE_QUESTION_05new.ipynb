{
  "nbformat": 4,
  "nbformat_minor": 0,
  "metadata": {
    "colab": {
      "name": "LABCYCLE QUESTION : 05new.ipynb",
      "provenance": [],
      "collapsed_sections": []
    },
    "kernelspec": {
      "name": "python3",
      "display_name": "Python 3"
    },
    "language_info": {
      "name": "python"
    }
  },
  "cells": [
    {
      "cell_type": "markdown",
      "source": [
        "# ***PYTHON LABCYCLE QUESTION : 05***"
      ],
      "metadata": {
        "id": "Ye1jXA2VBrhH"
      }
    },
    {
      "cell_type": "code",
      "execution_count": 11,
      "metadata": {
        "colab": {
          "base_uri": "https://localhost:8080/"
        },
        "id": "r5vA62ReBrB8",
        "outputId": "d36692a0-3319-48ba-a7b4-6a4dcb470d02"
      },
      "outputs": [
        {
          "output_type": "stream",
          "name": "stdout",
          "text": [
            "Enter the string :  namitha\n",
            "1.Sub Strings are\n",
            "n  na  nam  nami  namit  namith  namitha  a  am  ami  amit  amith  amitha  m  mi  mit  mith  mitha  i  it  ith  itha  t  th  tha  h  ha  a  \n",
            "\n",
            "Enter length of the substring 4\n",
            "\n",
            "2.Sub Strings with length  4  are\n",
            "nami  amit  mith  itha  \n",
            "\n",
            "Enter the no of distinct characters : 4\n",
            "\n",
            "3.Sub Strings with length  4 and  4  distinct characters are\n",
            "nami  amit  mith  itha  \n",
            "\n",
            "4.The Paliandrome subStrings are \n",
            "n  a  m  i  t  h  a  "
          ]
        }
      ],
      "source": [
        "#5.Develop a program to read a string and perform the following operations:\n",
        "\n",
        "#• Print all possible substring\n",
        "\n",
        "#• Print all possible substrings of length K\n",
        "\n",
        "#• Print all possible substrings of length K with N distinct characters\n",
        "\n",
        "#• Print all palindrome substrings\n",
        "\n",
        "def subString(a):\n",
        "  for i in range(0,len(a)+1):\n",
        "    for j in range(i+1,len(a)+1):\n",
        "      s = a[i:j]\n",
        "      print(s,end=\"  \")\n",
        "def substringk(a,size):\n",
        "  for i in range(0,len(a)+1):\n",
        "    for j in range(i+1,len(a)+1):\n",
        "      s = a[i:j]\n",
        "      if len(s)==size:\n",
        "        print(s,end=\"  \")\n",
        "def substringN(a,size,N):\n",
        "  for i in range(0,len(a)+1):\n",
        "    for j in range(i+1,len(a)+1):\n",
        "      s = a[i:j]\n",
        "      if len(s)==size:\n",
        "        distinct = set(s)\n",
        "        if len(distinct) == N:\n",
        "          print(s,end=\"  \")\n",
        "\n",
        "def paliandrome(a):\n",
        "  for i in range(0,len(a)+1):\n",
        "    for j in range(i+1,len(a)+1):\n",
        "      s = a[i:j]\n",
        "      reverse = s[::-1]\n",
        "      if reverse == s:\n",
        "        print(s , end = \"  \")\n",
        "\n",
        "\n",
        "a = input(\"Enter the string :  \")\n",
        "print(\"1.Sub Strings are\")\n",
        "subString(a)\n",
        "\n",
        "length = int(input(\"\\n\\nEnter length of the substring \"))\n",
        "print(\"\\n2.Sub Strings with length \",length,\" are\")\n",
        "substringk(a,length) \n",
        "\n",
        "num_of_distinct = int(input(\"\\n\\nEnter the no of distinct characters : \"))\n",
        "print(\"\\n3.Sub Strings with length \",length,\"and \",num_of_distinct,\" distinct characters are\")\n",
        "substringN(a,length,num_of_distinct)\n",
        "\n",
        "print(\"\\n\\n4.The Paliandrome subStrings are \")\n",
        "paliandrome(a)"
      ]
    }
  ]
}