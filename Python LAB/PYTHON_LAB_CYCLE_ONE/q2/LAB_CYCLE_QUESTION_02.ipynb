{
  "nbformat": 4,
  "nbformat_minor": 0,
  "metadata": {
    "colab": {
      "name": "LAB_CYCLE QUESTION:02.ipynb",
      "provenance": [],
      "collapsed_sections": []
    },
    "kernelspec": {
      "name": "python3",
      "display_name": "Python 3"
    },
    "language_info": {
      "name": "python"
    }
  },
  "cells": [
    {
      "cell_type": "markdown",
      "source": [
        "# ***PYTHON LAB_CYCLE QUESTION:02***"
      ],
      "metadata": {
        "id": "GmTl5q3eADkg"
      }
    },
    {
      "cell_type": "code",
      "execution_count": 1,
      "metadata": {
        "colab": {
          "base_uri": "https://localhost:8080/"
        },
        "id": "YXnxsbczAC6p",
        "outputId": "4a16018e-cf33-4fde-e263-d450c5794d38"
      },
      "outputs": [
        {
          "output_type": "stream",
          "name": "stdout",
          "text": [
            "Enter first side of  triangle: 2\n",
            "Enter second side of  triangle : 2\n",
            "Enter third side of  triangle : 2\n",
            "Sides of triangle :  2 2 2\n",
            "AREA OF TRIANGLE :  1.7320508075688772\n",
            "Enter first side of  triangle: 3\n",
            "Enter second side of  triangle : 3\n",
            "Enter third side of  triangle : 3\n",
            "Sides of triangle :  3 3 3\n",
            "AREA OF TRIANGLE :  3.897114317029974\n",
            "Contribution of first triangle :  30.76923076923077\n",
            "Contribution of second triangle :  69.23076923076924\n"
          ]
        }
      ],
      "source": [
        "#2.Develop a program to read the three sides of two triangles and \n",
        "#calculate the area of both. Define a function to read the three sides\n",
        "#and call it. Also, define a function to calculate the area. Print the total \n",
        "#area enclosed by both triangles and each triangle's contribution (%)\n",
        "#towards it.\n",
        "\n",
        "\n",
        "\n",
        "def side():\n",
        "  p = int(input(\"Enter first side of  triangle: \"))\n",
        "  q = int(input(\"Enter second side of  triangle : \"))\n",
        "  r = int(input(\"Enter third side of  triangle : \"))\n",
        "  return p,q,r  \n",
        "def area():\n",
        "  p,q,r = side()\n",
        "  print(\"Sides of triangle : \",p,q,r)\n",
        "  s =(p+q+r)*0.5\n",
        "  A= (s*(s-p)*(s-q)*(s-r))**0.5\n",
        "  print(\"AREA OF TRIANGLE : \",A)\n",
        "  return A\n",
        "def  contribution():\n",
        " a1 =area()\n",
        " a2 =area()\n",
        " c1 =(a1/(a1+a2)*100)\n",
        " c2 =(a2/(a1+a2)*100)\n",
        " print(\"Contribution of first triangle : \",c1)\n",
        " print(\"Contribution of second triangle : \",c2)\n",
        "contribution()"
      ]
    }
  ]
}