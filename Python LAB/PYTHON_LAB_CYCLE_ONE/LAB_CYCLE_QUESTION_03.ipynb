{
  "nbformat": 4,
  "nbformat_minor": 0,
  "metadata": {
    "colab": {
      "name": "LAB CYCLE QUESTION : 03.ipynb",
      "provenance": [],
      "collapsed_sections": []
    },
    "kernelspec": {
      "name": "python3",
      "display_name": "Python 3"
    },
    "language_info": {
      "name": "python"
    }
  },
  "cells": [
    {
      "cell_type": "markdown",
      "source": [
        "PYTHON LAB CYCLE QUESTION : 03"
      ],
      "metadata": {
        "id": "cnLJIStiAm--"
      }
    },
    {
      "cell_type": "code",
      "execution_count": 1,
      "metadata": {
        "colab": {
          "base_uri": "https://localhost:8080/"
        },
        "id": "86rLpkW5AmWT",
        "outputId": "f100ef7a-264b-48f1-98de-76d1648eb85b"
      },
      "outputs": [
        {
          "output_type": "stream",
          "name": "stdout",
          "text": [
            "Enter name of employee : NAMITHA.M.S\n",
            "Enter code of employee : 1234\n",
            "Enter basicpay of the employee30001\n",
            "------------------------PAYMENT SLIP-------------------------\n",
            "Name of the employee :  NAMITHA.M.S\n",
            "Code of the employee :  1234\n",
            "Basic pay  of the employee :  30001\n",
            "Gross salary= 35083.5\n",
            "Deduction= 82\n",
            "Net Salary= 35001.5\n"
          ]
        }
      ],
      "source": [
        "#3.Develop a program to read the employee's name, code, and basic pay\n",
        "#and calculate the gross salary, deduction, and net salary according to\n",
        "#the following conditions. Define a function to find each of the \n",
        "#components. Finally, generate a payslip.\n",
        "\n",
        "\n",
        "def Employdetails():\n",
        "  name = str(input(\"Enter name of employee : \"))\n",
        "  code = int (input(\"Enter code of employee : \"))\n",
        "  basicpay = int(input(\"Enter basicpay of the employee\"))\n",
        "  \n",
        "  \n",
        "  \n",
        "  print('------------------------PAYMENT SLIP-------------------------')\n",
        "  print(\"Name of the employee : \",name)\n",
        "  print(\"Code of the employee : \",code)  \n",
        "  print(\"Basic pay  of the employee : \",basicpay) \n",
        "  return name,code,basicpay  \n",
        "def calc():\n",
        "  name,code,basicpay=Employdetails()\n",
        "  if basicpay<10000:\n",
        "    GrossSalary= (basicpay+(5*2.5)+500)\n",
        "    Deduction=(20+8+0)\n",
        "    Netsalary=(GrossSalary-Deduction)\n",
        "    print('Gross salary=',GrossSalary)\n",
        "    print('Deduction=',Deduction)\n",
        "    print('Net Salary=',NetSalary)\n",
        "  elif basicpay>10000 and basicpay<30000:\n",
        "    GrossSalary= (basicpay+(7.5*5)+2500) \n",
        "    Deduction=(60+8+0)\n",
        "    NetSalary=(GrossSalary-Deduction)\n",
        "    print('Gross salary=',GrossSalary)\n",
        "    print('Deduction=',Deduction)\n",
        "    print('Net Salary=',NetSalary)\n",
        "  elif basicpay>30000 and basicpay<50000:\n",
        "    GrossSalary= (basicpay+(11*7.5+5000)) \n",
        "    Deduction=(60+11+11)\n",
        "    NetSalary=(GrossSalary-Deduction)\n",
        "    print('Gross salary=',GrossSalary)\n",
        "    print('Deduction=',Deduction)\n",
        "    print('Net Salary=',NetSalary)\n",
        "  else :\n",
        "    GrossSalary= (basicpay+(25*11+7000))\n",
        "    Deduction=(80+12+20)\n",
        "    NetSalary=(GrossSalary-Deduction)\n",
        "    print('Gross salary=',GrossSalary)\n",
        "    print('Deduction=',Deduction)\n",
        "    print('Net Salary=',NetSalary)\n",
        "calc()"
      ]
    }
  ]
}